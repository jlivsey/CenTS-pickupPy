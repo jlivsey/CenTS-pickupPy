{
 "cells": [
  {
   "cell_type": "code",
   "execution_count": 1,
   "metadata": {},
   "outputs": [],
   "source": [
    "import numpy as np\n",
    "import scipy \n",
    "from scipy import stats"
   ]
  },
  {
   "cell_type": "code",
   "execution_count": 2,
   "metadata": {},
   "outputs": [],
   "source": [
    "from scipy.stats import norm"
   ]
  },
  {
   "cell_type": "code",
   "execution_count": 7,
   "metadata": {},
   "outputs": [
    {
     "data": {
      "text/plain": [
       "(0.15865525393145707, 0.24197072451914337, array([-1.95996398,  1.95996398]))"
      ]
     },
     "execution_count": 7,
     "metadata": {},
     "output_type": "execute_result"
    }
   ],
   "source": [
    "norm.cdf(-1),norm.pdf(-1),norm.ppf([.025,.975])"
   ]
  },
  {
   "cell_type": "markdown",
   "metadata": {},
   "source": [
    "\n",
    "\n",
    "    rvs: Random Variates\n",
    "\n",
    "    pdf: Probability Density Function\n",
    "\n",
    "    cdf: Cumulative Distribution Function\n",
    "\n",
    "    sf: Survival Function (1-CDF)\n",
    "\n",
    "    ppf: Percent Point Function (Inverse of CDF)\n",
    "\n",
    "    isf: Inverse Survival Function (Inverse of SF)\n",
    "\n",
    "    stats: Return mean, variance, (Fisher’s) skew, or (Fisher’s) kurtosis\n",
    "\n",
    "    moment: non-central moments of the distribution\n"
   ]
  },
  {
   "cell_type": "code",
   "execution_count": 8,
   "metadata": {},
   "outputs": [
    {
     "data": {
      "text/plain": [
       "array([-1.0856306 ,  0.99734545,  0.2829785 , -1.50629471, -0.57860025,\n",
       "        1.65143654, -2.42667924, -0.42891263,  1.26593626, -0.8667404 ,\n",
       "       -0.67888615, -0.09470897,  1.49138963, -0.638902  , -0.44398196,\n",
       "       -0.43435128,  2.20593008,  2.18678609,  1.0040539 ,  0.3861864 ])"
      ]
     },
     "execution_count": 8,
     "metadata": {},
     "output_type": "execute_result"
    }
   ],
   "source": [
    "x = norm.rvs(size=20, random_state=123)\n",
    "x"
   ]
  },
  {
   "cell_type": "code",
   "execution_count": 9,
   "metadata": {},
   "outputs": [
    {
     "data": {
      "text/plain": [
       "array([[-1.0856306 ,  0.99734545,  0.2829785 , -1.50629471, -0.57860025],\n",
       "       [ 1.65143654, -2.42667924, -0.42891263,  1.26593626, -0.8667404 ],\n",
       "       [-0.67888615, -0.09470897,  1.49138963, -0.638902  , -0.44398196],\n",
       "       [-0.43435128,  2.20593008,  2.18678609,  1.0040539 ,  0.3861864 ]])"
      ]
     },
     "execution_count": 9,
     "metadata": {},
     "output_type": "execute_result"
    }
   ],
   "source": [
    "norm.rvs(size=(4,5), random_state=123)"
   ]
  },
  {
   "cell_type": "code",
   "execution_count": 10,
   "metadata": {},
   "outputs": [
    {
     "data": {
      "text/plain": [
       "array([[-1.0856306 ,  0.99734545,  0.2829785 , -1.50629471, -0.57860025],\n",
       "       [ 1.65143654, -2.42667924, -0.42891263,  1.26593626, -0.8667404 ],\n",
       "       [-0.67888615, -0.09470897,  1.49138963, -0.638902  , -0.44398196],\n",
       "       [-0.43435128,  2.20593008,  2.18678609,  1.0040539 ,  0.3861864 ]])"
      ]
     },
     "execution_count": 10,
     "metadata": {},
     "output_type": "execute_result"
    }
   ],
   "source": [
    "x.shape = (4,5)\n",
    "x"
   ]
  },
  {
   "cell_type": "code",
   "execution_count": 11,
   "metadata": {},
   "outputs": [
    {
     "data": {
      "text/plain": [
       "array([-1.0856306 ,  0.99734545,  0.2829785 , -1.50629471, -0.57860025,\n",
       "        1.65143654, -2.42667924, -0.42891263,  1.26593626, -0.8667404 ,\n",
       "       -0.67888615, -0.09470897,  1.49138963, -0.638902  , -0.44398196,\n",
       "       -0.43435128,  2.20593008,  2.18678609,  1.0040539 ,  0.3861864 ])"
      ]
     },
     "execution_count": 11,
     "metadata": {},
     "output_type": "execute_result"
    }
   ],
   "source": [
    "norm.rvs(size=20, loc = 0, scale = 1, random_state=123)"
   ]
  },
  {
   "cell_type": "code",
   "execution_count": null,
   "metadata": {},
   "outputs": [],
   "source": [
    "norm.ppf([.2, .975])"
   ]
  },
  {
   "cell_type": "code",
   "execution_count": null,
   "metadata": {},
   "outputs": [],
   "source": [
    "norm.isf([.2, .975])"
   ]
  },
  {
   "cell_type": "code",
   "execution_count": 24,
   "metadata": {},
   "outputs": [
    {
     "data": {
      "text/plain": [
       "DescribeResult(nobs=1000, minmax=(-360.08837194652483, 16907.939066497634), mean=18.555578146890685, variance=288502.258875217, skewness=31.15110868032106, kurtosis=976.5787419690521)"
      ]
     },
     "execution_count": 24,
     "metadata": {},
     "output_type": "execute_result"
    }
   ],
   "source": [
    "np.random.seed(282629734)\n",
    "x = stats.t.rvs(1, size=1000)\n",
    "stats.describe(x)"
   ]
  },
  {
   "cell_type": "code",
   "execution_count": 22,
   "metadata": {},
   "outputs": [],
   "source": [
    "mu, sigma = 0, 0.1 # mean and standard deviation\n",
    "s = np.random.normal(mu, sigma, 1000)\n"
   ]
  },
  {
   "cell_type": "code",
   "execution_count": null,
   "metadata": {},
   "outputs": [],
   "source": [
    "import matplotlib.pyplot as plt\n",
    "count, bins, ignored = plt.hist(s, 30, density=True)\n",
    "plt.plot(bins, 1/(sigma * np.sqrt(2 * np.pi)) *\n",
    "               np.exp( - (bins - mu)**2 / (2 * sigma**2) ),\n",
    "         linewidth=2, color='r')\n",
    "plt.show()"
   ]
  },
  {
   "cell_type": "code",
   "execution_count": 25,
   "metadata": {},
   "outputs": [
    {
     "data": {
      "text/plain": [
       "array([[0.13736585, 0.62387919],\n",
       "       [0.16715352, 0.85952693],\n",
       "       [0.61116739, 0.8827902 ],\n",
       "       [0.1223108 , 0.56519965],\n",
       "       [0.32706613, 0.15684097]])"
      ]
     },
     "execution_count": 25,
     "metadata": {},
     "output_type": "execute_result"
    }
   ],
   "source": [
    "# This generates random number of values in a given SHAPE\n",
    "a=np.random.rand(5,2)  \n",
    "a"
   ]
  },
  {
   "cell_type": "code",
   "execution_count": 27,
   "metadata": {},
   "outputs": [
    {
     "data": {
      "text/plain": [
       "array([[-0.5980403 ,  1.05530445],\n",
       "       [ 1.60279558,  1.76312229]])"
      ]
     },
     "execution_count": 27,
     "metadata": {},
     "output_type": "execute_result"
    }
   ],
   "source": [
    "a=np.random.randn(2,2)  \n",
    "a\n"
   ]
  },
  {
   "cell_type": "code",
   "execution_count": null,
   "metadata": {},
   "outputs": [],
   "source": [
    "a=np.random.randint(0, 3, size=10) # inclusive low, exclusive high\n",
    "a"
   ]
  },
  {
   "cell_type": "code",
   "execution_count": 29,
   "metadata": {},
   "outputs": [],
   "source": [
    "import matplotlib.pyplot as plt\n",
    "from scipy.stats import multivariate_normal"
   ]
  },
  {
   "cell_type": "code",
   "execution_count": 30,
   "metadata": {
    "scrolled": true
   },
   "outputs": [
    {
     "data": {
      "text/plain": [
       "(array([0. , 0.5, 1. , 1.5, 2. , 2.5, 3. , 3.5, 4. , 4.5]),\n",
       " array([0.00108914, 0.01033349, 0.05946514, 0.20755375, 0.43939129,\n",
       "        0.56418958, 0.43939129, 0.20755375, 0.05946514, 0.01033349]))"
      ]
     },
     "execution_count": 30,
     "metadata": {},
     "output_type": "execute_result"
    },
    {
     "data": {
      "image/png": "[encoded data removed]",
      "text/plain": [
       "<Figure size 432x288 with 1 Axes>"
      ]
     },
     "metadata": {
      "needs_background": "light"
     },
     "output_type": "display_data"
    }
   ],
   "source": [
    "x = np.linspace(0, 5, 10, endpoint=False)\n",
    "y = multivariate_normal.pdf(x, mean=2.5, cov=0.5)\n",
    "\n",
    "\n",
    "fig1 = plt.figure()\n",
    "ax = fig1.add_subplot(111)\n",
    "ax.plot(x, y)\n",
    "\n",
    "x,y"
   ]
  },
  {
   "cell_type": "code",
   "execution_count": 38,
   "metadata": {},
   "outputs": [
    {
     "data": {
      "text/plain": [
       "<matplotlib.contour.QuadContourSet at 0x2233aefad30>"
      ]
     },
     "execution_count": 38,
     "metadata": {},
     "output_type": "execute_result"
    },
    {
     "data": {
      "image/png": "[encoded data removed]",
      "text/plain": [
       "<Figure size 432x288 with 1 Axes>"
      ]
     },
     "metadata": {
      "needs_background": "light"
     },
     "output_type": "display_data"
    }
   ],
   "source": [
    "x, y = np.mgrid[-1:1:.01, -1:1:.01]\n",
    "pos = np.dstack((x, y))\n",
    "rv = multivariate_normal([0.5, -0.2], [[2.0, 0.3], [0.3, 0.5]])\n",
    "fig2 = plt.figure()\n",
    "ax2 = fig2.add_subplot(2,1,1) # create an axes object in the figure\n",
    "ax2.contourf(x, y, rv.pdf(pos))"
   ]
  },
  {
   "cell_type": "code",
   "execution_count": null,
   "metadata": {},
   "outputs": [],
   "source": [
    "rv.pdf([.5,.5])"
   ]
  },
  {
   "cell_type": "code",
   "execution_count": null,
   "metadata": {},
   "outputs": [],
   "source": []
  },
  {
   "cell_type": "markdown",
   "metadata": {},
   "source": [
    " scipy.stats.multivariate_normal(mean=None, cov=1, allow_singular=False, seed=None) = <scipy.stats._multivariate.multivariate_normal_gen object>[source]\n",
    "\n",
    "    A multivariate normal random variable.\n",
    "\n",
    "    The mean keyword specifies the mean. The cov keyword specifies the covariance matrix.\n",
    "\n",
    "    Parameters\n",
    "\n",
    "        xarray_like\n",
    "\n",
    "            Quantiles, with the last axis of x denoting the components.\n",
    "        meanarray_like, optional\n",
    "\n",
    "            Mean of the distribution (default zero)\n",
    "        covarray_like, optional\n",
    "\n",
    "            Covariance matrix of the distribution (default one)\n",
    "        allow_singularbool, optional\n",
    "\n",
    "            Whether to allow a singular covariance matrix. (Default: False)\n",
    "        random_state{None, int, np.random.RandomState, np.random.Generator}, optional\n",
    "\n",
    "            Used for drawing random variates. If seed is None the RandomState singleton is used. If seed is an int, a new RandomState instance is used, seeded with seed. If seed is already a RandomState or Generator instance, then that object is used. Default is None.\n",
    "        Alternatively, the object may be called (as a function) to fix the mean\n",
    "        and covariance parameters, returning a “frozen” multivariate normal\n",
    "        random variable:\n",
    "        rv = multivariate_normal(mean=None, cov=1, allow_singular=False)\n",
    "\n",
    "                Frozen object with the same methods but holding the given mean and covariance fixed.\n",
    "\n",
    "    Setting the parameter mean to None is equivalent to having mean be the zero-vector. The parameter cov can be a scalar, in which case the covariance matrix is the identity times that value, a vector of diagonal entries for the covariance matrix, or a two-dimensional array_like.\n",
    "\n",
    "    The covariance matrix cov must be a (symmetric) positive semi-definite matrix. The determinant and inverse of cov are computed as the pseudo-determinant and pseudo-inverse, respectively, so that cov does not need to have full rank."
   ]
  },
  {
   "cell_type": "code",
   "execution_count": 39,
   "metadata": {},
   "outputs": [
    {
     "data": {
      "text/plain": [
       "array([0.05946514, 0.43939129])"
      ]
     },
     "execution_count": 39,
     "metadata": {},
     "output_type": "execute_result"
    }
   ],
   "source": [
    "multivariate_normal.pdf([1,2], mean=2.5, cov=0.5)"
   ]
  },
  {
   "cell_type": "code",
   "execution_count": 42,
   "metadata": {},
   "outputs": [
    {
     "data": {
      "text/plain": [
       "array([[[  9.54358736, -13.237764  ],\n",
       "        [  9.07425988, -11.26726754],\n",
       "        [  9.04930464,  -1.01516809],\n",
       "        [ 10.10991489,   8.67297035],\n",
       "        [ 11.79618578,   3.11378115]],\n",
       "\n",
       "       [[  9.72375402,   4.82164023],\n",
       "        [  7.66177656,  14.16122718],\n",
       "        [  9.88979186,   0.19877207],\n",
       "        [ 10.50227264,  -7.93459495],\n",
       "        [ 10.9749019 , -16.63269069]],\n",
       "\n",
       "       [[ 10.55022259,  12.68484365],\n",
       "        [ 10.4651985 ,  -2.41749045],\n",
       "        [  8.04000261,  -4.09363956],\n",
       "        [ 12.22677476,   4.43992046],\n",
       "        [ 10.09119119,  -0.40244604]]])"
      ]
     },
     "execution_count": 42,
     "metadata": {},
     "output_type": "execute_result"
    }
   ],
   "source": [
    "mean = [10, 0]\n",
    "cov = [[1, 0], [0, 100]]  # diagonal covariance\n",
    "np.random.multivariate_normal(mean,cov,size=(3,5))"
   ]
  },
  {
   "cell_type": "code",
   "execution_count": 43,
   "metadata": {},
   "outputs": [
    {
     "data": {
      "text/plain": [
       "array([[[ 10.99734545, -10.85630603],\n",
       "        [  8.49370529,   2.82978498],\n",
       "        [ 11.65143654,  -5.78600252]],\n",
       "\n",
       "       [[  9.57108737, -24.26679243],\n",
       "        [  9.1332596 ,  12.65936259],\n",
       "        [  9.90529103,  -6.78886152]],\n",
       "\n",
       "       [[  9.361098  ,  14.91389626],\n",
       "        [  9.56564872,  -4.4398196 ],\n",
       "        [ 12.18678609,  22.05930083]]])"
      ]
     },
     "execution_count": 43,
     "metadata": {},
     "output_type": "execute_result"
    }
   ],
   "source": [
    "multivariate_normal.rvs(mean,cov,size=(3,3),random_state=123)\n"
   ]
  },
  {
   "cell_type": "code",
   "execution_count": 49,
   "metadata": {},
   "outputs": [
    {
     "data": {
      "text/plain": [
       "DescribeResult(nobs=2, minmax=(array([ 2, -4,  0]), array([ 5,  3, 10])), mean=array([ 3.5, -0.5,  5. ]), variance=array([ 4.5, 24.5, 50. ]), skewness=array([0., 0., 0.]), kurtosis=array([-2., -2., -2.]))"
      ]
     },
     "execution_count": 49,
     "metadata": {},
     "output_type": "execute_result"
    }
   ],
   "source": [
    "b = [[5, 2],[3, -4],[10,0]]\n",
    "stats.describe(b, axis = 1)"
   ]
  },
  {
   "cell_type": "code",
   "execution_count": 46,
   "metadata": {},
   "outputs": [
    {
     "data": {
      "text/plain": [
       "[[5, 2], [3, -4], [10, 0]]"
      ]
     },
     "execution_count": 46,
     "metadata": {},
     "output_type": "execute_result"
    }
   ],
   "source": [
    "b"
   ]
  },
  {
   "cell_type": "code",
   "execution_count": 51,
   "metadata": {},
   "outputs": [],
   "source": [
    "import pandas as pd"
   ]
  },
  {
   "cell_type": "code",
   "execution_count": 64,
   "metadata": {},
   "outputs": [
    {
     "data": {
      "text/html": [
       "<div>\n",
       "<style scoped>\n",
       "    .dataframe tbody tr th:only-of-type {\n",
       "        vertical-align: middle;\n",
       "    }\n",
       "\n",
       "    .dataframe tbody tr th {\n",
       "        vertical-align: top;\n",
       "    }\n",
       "\n",
       "    .dataframe thead th {\n",
       "        text-align: right;\n",
       "    }\n",
       "</style>\n",
       "<table border=\"1\" class=\"dataframe\">\n",
       "  <thead>\n",
       "    <tr style=\"text-align: right;\">\n",
       "      <th></th>\n",
       "      <th>A</th>\n",
       "      <th>B</th>\n",
       "      <th>C</th>\n",
       "    </tr>\n",
       "    <tr>\n",
       "      <th>ID</th>\n",
       "      <th></th>\n",
       "      <th></th>\n",
       "      <th></th>\n",
       "    </tr>\n",
       "  </thead>\n",
       "  <tbody>\n",
       "    <tr>\n",
       "      <th>1</th>\n",
       "      <td>NaN</td>\n",
       "      <td>0.2</td>\n",
       "      <td>NaN</td>\n",
       "    </tr>\n",
       "    <tr>\n",
       "      <th>2</th>\n",
       "      <td>NaN</td>\n",
       "      <td>NaN</td>\n",
       "      <td>0.5</td>\n",
       "    </tr>\n",
       "    <tr>\n",
       "      <th>3</th>\n",
       "      <td>NaN</td>\n",
       "      <td>0.2</td>\n",
       "      <td>0.5</td>\n",
       "    </tr>\n",
       "    <tr>\n",
       "      <th>4</th>\n",
       "      <td>0.1</td>\n",
       "      <td>0.2</td>\n",
       "      <td>NaN</td>\n",
       "    </tr>\n",
       "    <tr>\n",
       "      <th>5</th>\n",
       "      <td>0.1</td>\n",
       "      <td>0.2</td>\n",
       "      <td>0.9</td>\n",
       "    </tr>\n",
       "    <tr>\n",
       "      <th>6</th>\n",
       "      <td>0.1</td>\n",
       "      <td>NaN</td>\n",
       "      <td>0.8</td>\n",
       "    </tr>\n",
       "    <tr>\n",
       "      <th>7</th>\n",
       "      <td>0.1</td>\n",
       "      <td>NaN</td>\n",
       "      <td>NaN</td>\n",
       "    </tr>\n",
       "  </tbody>\n",
       "</table>\n",
       "</div>"
      ],
      "text/plain": [
       "      A    B    C\n",
       "ID               \n",
       "1   NaN  0.2  NaN\n",
       "2   NaN  NaN  0.5\n",
       "3   NaN  0.2  0.5\n",
       "4   0.1  0.2  NaN\n",
       "5   0.1  0.2  0.9\n",
       "6   0.1  NaN  0.8\n",
       "7   0.1  NaN  NaN"
      ]
     },
     "execution_count": 64,
     "metadata": {},
     "output_type": "execute_result"
    }
   ],
   "source": [
    "\n",
    "index = [1, 2, 3, 4, 5, 6, 7]\n",
    "a = [np.nan, np.nan, np.nan, 0.1, 0.1, 0.1, 0.1]\n",
    "b = [0.2, np.nan, 0.2, 0.2, 0.2, np.nan, np.nan]\n",
    "c = [np.nan, 0.5, 0.5, np.nan, 0.9, 0.8, np.nan]\n",
    "df = pd.DataFrame({'A': a, 'B': b, 'C': c}, index=index)\n",
    "df = df.rename_axis('ID')\n",
    "df\n"
   ]
  },
  {
   "cell_type": "code",
   "execution_count": 65,
   "metadata": {},
   "outputs": [
    {
     "data": {
      "text/plain": [
       "array([[nan, nan],\n",
       "       [nan, 0.5],\n",
       "       [nan, 0.5],\n",
       "       [0.1, nan],\n",
       "       [0.1, 0.9],\n",
       "       [0.1, 0.8],\n",
       "       [0.1, nan]])"
      ]
     },
     "execution_count": 65,
     "metadata": {},
     "output_type": "execute_result"
    }
   ],
   "source": [
    "dfac = df[['A', 'C']].to_numpy()\n",
    "dfac"
   ]
  },
  {
   "cell_type": "code",
   "execution_count": 62,
   "metadata": {},
   "outputs": [],
   "source": [
    "from scipy.stats.mstats import mquantiles"
   ]
  },
  {
   "cell_type": "code",
   "execution_count": 66,
   "metadata": {},
   "outputs": [
    {
     "data": {
      "text/plain": [
       "masked_array(\n",
       "  data=[[0.1  , 0.5  ],\n",
       "        [0.1  , 0.65 ],\n",
       "        [0.1  , 0.855]],\n",
       "  mask=False,\n",
       "  fill_value=1e+20)"
      ]
     },
     "execution_count": 66,
     "metadata": {},
     "output_type": "execute_result"
    }
   ],
   "source": [
    "mquantiles(dfac, axis=0, limit=(0, 1))"
   ]
  },
  {
   "cell_type": "code",
   "execution_count": 57,
   "metadata": {},
   "outputs": [],
   "source": [
    "df_gw = pd.read_csv(\"C:/Users/anindya/Dropbox/census/ONS19_data/Data/Electricity/gridwatch.csv\")"
   ]
  },
  {
   "cell_type": "code",
   "execution_count": 58,
   "metadata": {
    "scrolled": true
   },
   "outputs": [
    {
     "data": {
      "text/html": [
       "<div>\n",
       "<style scoped>\n",
       "    .dataframe tbody tr th:only-of-type {\n",
       "        vertical-align: middle;\n",
       "    }\n",
       "\n",
       "    .dataframe tbody tr th {\n",
       "        vertical-align: top;\n",
       "    }\n",
       "\n",
       "    .dataframe thead th {\n",
       "        text-align: right;\n",
       "    }\n",
       "</style>\n",
       "<table border=\"1\" class=\"dataframe\">\n",
       "  <thead>\n",
       "    <tr style=\"text-align: right;\">\n",
       "      <th></th>\n",
       "      <th>id</th>\n",
       "      <th>timestamp</th>\n",
       "      <th>demand</th>\n",
       "      <th>frequency</th>\n",
       "      <th>coal</th>\n",
       "      <th>nuclear</th>\n",
       "      <th>ccgt</th>\n",
       "      <th>wind</th>\n",
       "      <th>pumped</th>\n",
       "      <th>hydro</th>\n",
       "      <th>...</th>\n",
       "      <th>oil</th>\n",
       "      <th>solar</th>\n",
       "      <th>ocgt</th>\n",
       "      <th>french_ict</th>\n",
       "      <th>dutch_ict</th>\n",
       "      <th>irish_ict</th>\n",
       "      <th>ew_ict</th>\n",
       "      <th>other</th>\n",
       "      <th>north_south</th>\n",
       "      <th>scotland_england</th>\n",
       "    </tr>\n",
       "  </thead>\n",
       "  <tbody>\n",
       "    <tr>\n",
       "      <th>0</th>\n",
       "      <td>66821</td>\n",
       "      <td>2012-01-15 09:00:02</td>\n",
       "      <td>34983</td>\n",
       "      <td>49.995998</td>\n",
       "      <td>15951</td>\n",
       "      <td>6713</td>\n",
       "      <td>8658</td>\n",
       "      <td>710</td>\n",
       "      <td>363</td>\n",
       "      <td>635</td>\n",
       "      <td>...</td>\n",
       "      <td>0</td>\n",
       "      <td>0.00</td>\n",
       "      <td>0</td>\n",
       "      <td>1632</td>\n",
       "      <td>478.0</td>\n",
       "      <td>0</td>\n",
       "      <td>0.0</td>\n",
       "      <td>0</td>\n",
       "      <td>0</td>\n",
       "      <td>0</td>\n",
       "    </tr>\n",
       "    <tr>\n",
       "      <th>1</th>\n",
       "      <td>66822</td>\n",
       "      <td>2012-01-15 09:05:01</td>\n",
       "      <td>35387</td>\n",
       "      <td>50.018002</td>\n",
       "      <td>15921</td>\n",
       "      <td>6717</td>\n",
       "      <td>8754</td>\n",
       "      <td>714</td>\n",
       "      <td>312</td>\n",
       "      <td>665</td>\n",
       "      <td>...</td>\n",
       "      <td>0</td>\n",
       "      <td>0.00</td>\n",
       "      <td>0</td>\n",
       "      <td>1600</td>\n",
       "      <td>424.0</td>\n",
       "      <td>0</td>\n",
       "      <td>0.0</td>\n",
       "      <td>0</td>\n",
       "      <td>0</td>\n",
       "      <td>0</td>\n",
       "    </tr>\n",
       "    <tr>\n",
       "      <th>2</th>\n",
       "      <td>66823</td>\n",
       "      <td>2012-01-15 09:10:01</td>\n",
       "      <td>35822</td>\n",
       "      <td>49.998001</td>\n",
       "      <td>15959</td>\n",
       "      <td>6714</td>\n",
       "      <td>8897</td>\n",
       "      <td>723</td>\n",
       "      <td>293</td>\n",
       "      <td>724</td>\n",
       "      <td>...</td>\n",
       "      <td>0</td>\n",
       "      <td>0.00</td>\n",
       "      <td>0</td>\n",
       "      <td>1600</td>\n",
       "      <td>424.0</td>\n",
       "      <td>0</td>\n",
       "      <td>0.0</td>\n",
       "      <td>0</td>\n",
       "      <td>0</td>\n",
       "      <td>0</td>\n",
       "    </tr>\n",
       "    <tr>\n",
       "      <th>3</th>\n",
       "      <td>66824</td>\n",
       "      <td>2012-01-15 09:15:15</td>\n",
       "      <td>36288</td>\n",
       "      <td>50.023998</td>\n",
       "      <td>16209</td>\n",
       "      <td>6711</td>\n",
       "      <td>9093</td>\n",
       "      <td>742</td>\n",
       "      <td>293</td>\n",
       "      <td>726</td>\n",
       "      <td>...</td>\n",
       "      <td>0</td>\n",
       "      <td>0.00</td>\n",
       "      <td>0</td>\n",
       "      <td>1600</td>\n",
       "      <td>424.0</td>\n",
       "      <td>0</td>\n",
       "      <td>0.0</td>\n",
       "      <td>0</td>\n",
       "      <td>0</td>\n",
       "      <td>0</td>\n",
       "    </tr>\n",
       "    <tr>\n",
       "      <th>4</th>\n",
       "      <td>66825</td>\n",
       "      <td>2012-01-15 09:20:03</td>\n",
       "      <td>36582</td>\n",
       "      <td>50.022999</td>\n",
       "      <td>16273</td>\n",
       "      <td>6710</td>\n",
       "      <td>9316</td>\n",
       "      <td>751</td>\n",
       "      <td>292</td>\n",
       "      <td>726</td>\n",
       "      <td>...</td>\n",
       "      <td>0</td>\n",
       "      <td>0.00</td>\n",
       "      <td>0</td>\n",
       "      <td>1600</td>\n",
       "      <td>424.0</td>\n",
       "      <td>0</td>\n",
       "      <td>0.0</td>\n",
       "      <td>0</td>\n",
       "      <td>0</td>\n",
       "      <td>0</td>\n",
       "    </tr>\n",
       "    <tr>\n",
       "      <th>...</th>\n",
       "      <td>...</td>\n",
       "      <td>...</td>\n",
       "      <td>...</td>\n",
       "      <td>...</td>\n",
       "      <td>...</td>\n",
       "      <td>...</td>\n",
       "      <td>...</td>\n",
       "      <td>...</td>\n",
       "      <td>...</td>\n",
       "      <td>...</td>\n",
       "      <td>...</td>\n",
       "      <td>...</td>\n",
       "      <td>...</td>\n",
       "      <td>...</td>\n",
       "      <td>...</td>\n",
       "      <td>...</td>\n",
       "      <td>...</td>\n",
       "      <td>...</td>\n",
       "      <td>...</td>\n",
       "      <td>...</td>\n",
       "      <td>...</td>\n",
       "    </tr>\n",
       "    <tr>\n",
       "      <th>734592</th>\n",
       "      <td>801414</td>\n",
       "      <td>2019-01-15 08:35:33</td>\n",
       "      <td>40446</td>\n",
       "      <td>49.965000</td>\n",
       "      <td>2775</td>\n",
       "      <td>5164</td>\n",
       "      <td>17735</td>\n",
       "      <td>10149</td>\n",
       "      <td>285</td>\n",
       "      <td>875</td>\n",
       "      <td>...</td>\n",
       "      <td>0</td>\n",
       "      <td>2.34</td>\n",
       "      <td>0</td>\n",
       "      <td>-230</td>\n",
       "      <td>1010.0</td>\n",
       "      <td>-90</td>\n",
       "      <td>0.0</td>\n",
       "      <td>74</td>\n",
       "      <td>4709</td>\n",
       "      <td>3394</td>\n",
       "    </tr>\n",
       "    <tr>\n",
       "      <th>734593</th>\n",
       "      <td>801415</td>\n",
       "      <td>2019-01-15 08:40:34</td>\n",
       "      <td>40379</td>\n",
       "      <td>50.007000</td>\n",
       "      <td>2763</td>\n",
       "      <td>5163</td>\n",
       "      <td>17726</td>\n",
       "      <td>10163</td>\n",
       "      <td>227</td>\n",
       "      <td>878</td>\n",
       "      <td>...</td>\n",
       "      <td>0</td>\n",
       "      <td>2.33</td>\n",
       "      <td>0</td>\n",
       "      <td>-230</td>\n",
       "      <td>1011.0</td>\n",
       "      <td>-90</td>\n",
       "      <td>0.0</td>\n",
       "      <td>69</td>\n",
       "      <td>4699</td>\n",
       "      <td>3360</td>\n",
       "    </tr>\n",
       "    <tr>\n",
       "      <th>734594</th>\n",
       "      <td>801416</td>\n",
       "      <td>2019-01-15 08:45:33</td>\n",
       "      <td>40348</td>\n",
       "      <td>50.012001</td>\n",
       "      <td>2718</td>\n",
       "      <td>5165</td>\n",
       "      <td>17744</td>\n",
       "      <td>10157</td>\n",
       "      <td>222</td>\n",
       "      <td>880</td>\n",
       "      <td>...</td>\n",
       "      <td>0</td>\n",
       "      <td>2.33</td>\n",
       "      <td>0</td>\n",
       "      <td>-230</td>\n",
       "      <td>1011.0</td>\n",
       "      <td>-90</td>\n",
       "      <td>0.0</td>\n",
       "      <td>69</td>\n",
       "      <td>4666</td>\n",
       "      <td>3337</td>\n",
       "    </tr>\n",
       "    <tr>\n",
       "      <th>734595</th>\n",
       "      <td>801417</td>\n",
       "      <td>2019-01-15 08:50:34</td>\n",
       "      <td>40297</td>\n",
       "      <td>49.952000</td>\n",
       "      <td>2687</td>\n",
       "      <td>5191</td>\n",
       "      <td>17734</td>\n",
       "      <td>10135</td>\n",
       "      <td>215</td>\n",
       "      <td>882</td>\n",
       "      <td>...</td>\n",
       "      <td>0</td>\n",
       "      <td>2.33</td>\n",
       "      <td>0</td>\n",
       "      <td>-230</td>\n",
       "      <td>1010.0</td>\n",
       "      <td>-90</td>\n",
       "      <td>0.0</td>\n",
       "      <td>68</td>\n",
       "      <td>4656</td>\n",
       "      <td>3327</td>\n",
       "    </tr>\n",
       "    <tr>\n",
       "      <th>734596</th>\n",
       "      <td>801418</td>\n",
       "      <td>2019-01-15 08:55:34</td>\n",
       "      <td>40274</td>\n",
       "      <td>49.926998</td>\n",
       "      <td>2640</td>\n",
       "      <td>5191</td>\n",
       "      <td>17695</td>\n",
       "      <td>10078</td>\n",
       "      <td>328</td>\n",
       "      <td>878</td>\n",
       "      <td>...</td>\n",
       "      <td>0</td>\n",
       "      <td>2.66</td>\n",
       "      <td>0</td>\n",
       "      <td>-230</td>\n",
       "      <td>1011.0</td>\n",
       "      <td>-90</td>\n",
       "      <td>0.0</td>\n",
       "      <td>70</td>\n",
       "      <td>4691</td>\n",
       "      <td>3453</td>\n",
       "    </tr>\n",
       "  </tbody>\n",
       "</table>\n",
       "<p>734597 rows × 21 columns</p>\n",
       "</div>"
      ],
      "text/plain": [
       "            id             timestamp   demand   frequency   coal   nuclear  \\\n",
       "0        66821   2012-01-15 09:00:02    34983   49.995998  15951      6713   \n",
       "1        66822   2012-01-15 09:05:01    35387   50.018002  15921      6717   \n",
       "2        66823   2012-01-15 09:10:01    35822   49.998001  15959      6714   \n",
       "3        66824   2012-01-15 09:15:15    36288   50.023998  16209      6711   \n",
       "4        66825   2012-01-15 09:20:03    36582   50.022999  16273      6710   \n",
       "...        ...                   ...      ...         ...    ...       ...   \n",
       "734592  801414   2019-01-15 08:35:33    40446   49.965000   2775      5164   \n",
       "734593  801415   2019-01-15 08:40:34    40379   50.007000   2763      5163   \n",
       "734594  801416   2019-01-15 08:45:33    40348   50.012001   2718      5165   \n",
       "734595  801417   2019-01-15 08:50:34    40297   49.952000   2687      5191   \n",
       "734596  801418   2019-01-15 08:55:34    40274   49.926998   2640      5191   \n",
       "\n",
       "         ccgt   wind   pumped   hydro  ...   oil   solar   ocgt   french_ict  \\\n",
       "0        8658    710      363     635  ...     0    0.00      0         1632   \n",
       "1        8754    714      312     665  ...     0    0.00      0         1600   \n",
       "2        8897    723      293     724  ...     0    0.00      0         1600   \n",
       "3        9093    742      293     726  ...     0    0.00      0         1600   \n",
       "4        9316    751      292     726  ...     0    0.00      0         1600   \n",
       "...       ...    ...      ...     ...  ...   ...     ...    ...          ...   \n",
       "734592  17735  10149      285     875  ...     0    2.34      0         -230   \n",
       "734593  17726  10163      227     878  ...     0    2.33      0         -230   \n",
       "734594  17744  10157      222     880  ...     0    2.33      0         -230   \n",
       "734595  17734  10135      215     882  ...     0    2.33      0         -230   \n",
       "734596  17695  10078      328     878  ...     0    2.66      0         -230   \n",
       "\n",
       "         dutch_ict   irish_ict   ew_ict   other   north_south  \\\n",
       "0            478.0           0      0.0       0             0   \n",
       "1            424.0           0      0.0       0             0   \n",
       "2            424.0           0      0.0       0             0   \n",
       "3            424.0           0      0.0       0             0   \n",
       "4            424.0           0      0.0       0             0   \n",
       "...            ...         ...      ...     ...           ...   \n",
       "734592      1010.0         -90      0.0      74          4709   \n",
       "734593      1011.0         -90      0.0      69          4699   \n",
       "734594      1011.0         -90      0.0      69          4666   \n",
       "734595      1010.0         -90      0.0      68          4656   \n",
       "734596      1011.0         -90      0.0      70          4691   \n",
       "\n",
       "         scotland_england  \n",
       "0                       0  \n",
       "1                       0  \n",
       "2                       0  \n",
       "3                       0  \n",
       "4                       0  \n",
       "...                   ...  \n",
       "734592               3394  \n",
       "734593               3360  \n",
       "734594               3337  \n",
       "734595               3327  \n",
       "734596               3453  \n",
       "\n",
       "[734597 rows x 21 columns]"
      ]
     },
     "execution_count": 58,
     "metadata": {},
     "output_type": "execute_result"
    }
   ],
   "source": [
    "df_gw"
   ]
  },
  {
   "cell_type": "code",
   "execution_count": 60,
   "metadata": {},
   "outputs": [
    {
     "data": {
      "text/html": [
       "<div>\n",
       "<style scoped>\n",
       "    .dataframe tbody tr th:only-of-type {\n",
       "        vertical-align: middle;\n",
       "    }\n",
       "\n",
       "    .dataframe tbody tr th {\n",
       "        vertical-align: top;\n",
       "    }\n",
       "\n",
       "    .dataframe thead th {\n",
       "        text-align: right;\n",
       "    }\n",
       "</style>\n",
       "<table border=\"1\" class=\"dataframe\">\n",
       "  <thead>\n",
       "    <tr style=\"text-align: right;\">\n",
       "      <th></th>\n",
       "      <th>1</th>\n",
       "      <th>3</th>\n",
       "    </tr>\n",
       "  </thead>\n",
       "  <tbody>\n",
       "    <tr>\n",
       "      <th>0</th>\n",
       "      <td>NaN</td>\n",
       "      <td>NaN</td>\n",
       "    </tr>\n",
       "    <tr>\n",
       "      <th>1</th>\n",
       "      <td>NaN</td>\n",
       "      <td>NaN</td>\n",
       "    </tr>\n",
       "    <tr>\n",
       "      <th>2</th>\n",
       "      <td>NaN</td>\n",
       "      <td>NaN</td>\n",
       "    </tr>\n",
       "    <tr>\n",
       "      <th>3</th>\n",
       "      <td>NaN</td>\n",
       "      <td>NaN</td>\n",
       "    </tr>\n",
       "  </tbody>\n",
       "</table>\n",
       "</div>"
      ],
      "text/plain": [
       "    1   3\n",
       "0 NaN NaN\n",
       "1 NaN NaN\n",
       "2 NaN NaN\n",
       "3 NaN NaN"
      ]
     },
     "execution_count": 60,
     "metadata": {},
     "output_type": "execute_result"
    }
   ],
   "source": [
    "pd.DataFrame(df_gw,index = range(4),columns=[\"id\", \"demand\"])"
   ]
  },
  {
   "cell_type": "code",
   "execution_count": 61,
   "metadata": {},
   "outputs": [
    {
     "data": {
      "text/plain": [
       "['id',\n",
       " ' timestamp',\n",
       " ' demand',\n",
       " ' frequency',\n",
       " ' coal',\n",
       " ' nuclear',\n",
       " ' ccgt',\n",
       " ' wind',\n",
       " ' pumped',\n",
       " ' hydro',\n",
       " ' biomass',\n",
       " ' oil',\n",
       " ' solar',\n",
       " ' ocgt',\n",
       " ' french_ict',\n",
       " ' dutch_ict',\n",
       " ' irish_ict',\n",
       " ' ew_ict',\n",
       " ' other',\n",
       " ' north_south',\n",
       " ' scotland_england']"
      ]
     },
     "execution_count": 61,
     "metadata": {},
     "output_type": "execute_result"
    }
   ],
   "source": [
    "df_gw.columns.tolist()"
   ]
  }
 ],
 "metadata": {
  "kernelspec": {
   "display_name": "Python 3",
   "language": "python",
   "name": "python3"
  },
  "language_info": {
   "codemirror_mode": {
    "name": "ipython",
    "version": 3
   },
   "file_extension": ".py",
   "mimetype": "text/x-python",
   "name": "python",
   "nbconvert_exporter": "python",
   "pygments_lexer": "ipython3",
   "version": "3.8.5"
  }
 },
 "nbformat": 4,
 "nbformat_minor": 4
}
